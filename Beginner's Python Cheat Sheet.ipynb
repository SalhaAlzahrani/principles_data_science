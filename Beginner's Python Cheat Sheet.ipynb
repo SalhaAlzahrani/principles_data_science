{
 "cells": [
  {
   "cell_type": "markdown",
   "metadata": {},
   "source": [
    "# Variables and Strings"
   ]
  },
  {
   "cell_type": "markdown",
   "metadata": {},
   "source": [
    "Vriables are used to store values. A string is a series of charachters surrounded by single or double qoutes."
   ]
  },
  {
   "cell_type": "markdown",
   "metadata": {},
   "source": [
    "### Printing string"
   ]
  },
  {
   "cell_type": "code",
   "execution_count": 1,
   "metadata": {},
   "outputs": [
    {
     "name": "stdout",
     "output_type": "stream",
     "text": [
      "Hello World!\n"
     ]
    }
   ],
   "source": [
    "print('Hello World!')"
   ]
  },
  {
   "cell_type": "code",
   "execution_count": 2,
   "metadata": {},
   "outputs": [
    {
     "name": "stdout",
     "output_type": "stream",
     "text": [
      "Hello World!\n"
     ]
    }
   ],
   "source": [
    "print(\"Hello World!\")"
   ]
  },
  {
   "cell_type": "markdown",
   "metadata": {},
   "source": [
    "### Printing with a variable"
   ]
  },
  {
   "cell_type": "code",
   "execution_count": 3,
   "metadata": {},
   "outputs": [
    {
     "name": "stdout",
     "output_type": "stream",
     "text": [
      "Hello World!\n"
     ]
    }
   ],
   "source": [
    "msg = \"Hello World!\"\n",
    "print(msg)"
   ]
  },
  {
   "cell_type": "markdown",
   "metadata": {},
   "source": [
    "### Concatination (combining strings)"
   ]
  },
  {
   "cell_type": "code",
   "execution_count": 7,
   "metadata": {},
   "outputs": [
    {
     "name": "stdout",
     "output_type": "stream",
     "text": [
      "Salha Alzahrani\n"
     ]
    }
   ],
   "source": [
    "fname = 'Salha'\n",
    "lname = 'Alzahrani'\n",
    "fullname = fname + ' ' + lname\n",
    "print(fullname)"
   ]
  },
  {
   "cell_type": "code",
   "execution_count": 6,
   "metadata": {},
   "outputs": [
    {
     "name": "stdout",
     "output_type": "stream",
     "text": [
      "Salha Alzahrani\n"
     ]
    }
   ],
   "source": [
    "fname = 'Salha'\n",
    "lname = 'Alzahrani'\n",
    "print(fname + ' ' + lname)"
   ]
  },
  {
   "cell_type": "markdown",
   "metadata": {},
   "source": [
    "<hr>"
   ]
  },
  {
   "cell_type": "markdown",
   "metadata": {},
   "source": [
    "# User Input"
   ]
  },
  {
   "cell_type": "markdown",
   "metadata": {},
   "source": [
    "Your programs can prompt the user for input. All input is stored as a string."
   ]
  },
  {
   "cell_type": "markdown",
   "metadata": {},
   "source": [
    "### Prompting for a value"
   ]
  },
  {
   "cell_type": "code",
   "execution_count": 8,
   "metadata": {},
   "outputs": [
    {
     "name": "stdout",
     "output_type": "stream",
     "text": [
      "What is your name? Salha Alzahrani\n",
      "Hello, Salha Alzahrani!\n"
     ]
    }
   ],
   "source": [
    "name = input(\"What is your name? \")\n",
    "print(\"Hello, \" + name + \"!\")"
   ]
  },
  {
   "cell_type": "markdown",
   "metadata": {},
   "source": [
    "### Prompting for numerical input"
   ]
  },
  {
   "cell_type": "code",
   "execution_count": 22,
   "metadata": {},
   "outputs": [
    {
     "name": "stdout",
     "output_type": "stream",
     "text": [
      "How old are you?18\n"
     ]
    }
   ],
   "source": [
    "age = input(\"How old are you?\")\n",
    "age = int(age)"
   ]
  },
  {
   "cell_type": "code",
   "execution_count": 12,
   "metadata": {},
   "outputs": [
    {
     "name": "stdout",
     "output_type": "stream",
     "text": [
      "Enter pi : 3.14\n",
      "Double pi is 6.28\n"
     ]
    }
   ],
   "source": [
    "pi = input(\"Enter pi : \")\n",
    "pi = float(pi)\n",
    "x = pi *2\n",
    "print(\"Double pi is \" + str(x))"
   ]
  },
  {
   "cell_type": "markdown",
   "metadata": {},
   "source": [
    "# If Statments"
   ]
  },
  {
   "cell_type": "markdown",
   "metadata": {},
   "source": [
    "If statements are used to test for particular conditions and respond appropriately."
   ]
  },
  {
   "cell_type": "markdown",
   "metadata": {},
   "source": [
    "### Conditional tests"
   ]
  },
  {
   "cell_type": "code",
   "execution_count": 15,
   "metadata": {},
   "outputs": [
    {
     "name": "stdout",
     "output_type": "stream",
     "text": [
      "Enter x42\n",
      "X equals 42\n",
      "X greater than or equals to 42\n",
      "X less than or equals 42\n"
     ]
    }
   ],
   "source": [
    "x = input(\"Enter x\")\n",
    "x = int(x)\n",
    "\n",
    "#equals\n",
    "if (x == 42):\n",
    "    print(\"X equals 42\")\n",
    "\n",
    "#not equal\n",
    "if (x != 42):\n",
    "    print(\"X not equals 42\")\n",
    "\n",
    "#greater than \n",
    "if (x > 42):\n",
    "    print(\"X greater than 42\")\n",
    "\n",
    "#greater than or equals to\n",
    "if (x >= 42):\n",
    "    print(\"X greater than or equals to 42\")\n",
    "    \n",
    "#less than \n",
    "if (x < 42):\n",
    "    print(\"X less than 42\")\n",
    "\n",
    "#less than or equals to\n",
    "if (x >= 42):\n",
    "    print(\"X less than or equals 42\")"
   ]
  },
  {
   "cell_type": "markdown",
   "metadata": {},
   "source": [
    "### Conditional tests with lists"
   ]
  },
  {
   "cell_type": "code",
   "execution_count": 17,
   "metadata": {},
   "outputs": [
    {
     "name": "stdout",
     "output_type": "stream",
     "text": [
      "Orange is not in colors list\n"
     ]
    }
   ],
   "source": [
    "colors = ['red', 'green', 'blue']\n",
    "\n",
    "if ('orange' in colors):\n",
    "    print(\"Orange in colors list\")\n",
    "if ('orange' not in colors):\n",
    "    print(\"Orange is not in colors list\")"
   ]
  },
  {
   "cell_type": "markdown",
   "metadata": {},
   "source": [
    "### Boolean values"
   ]
  },
  {
   "cell_type": "code",
   "execution_count": 18,
   "metadata": {},
   "outputs": [
    {
     "name": "stdout",
     "output_type": "stream",
     "text": [
      "It's true!\n"
     ]
    }
   ],
   "source": [
    "x = True\n",
    "\n",
    "if (x == True):\n",
    "    print(\"It's true!\")"
   ]
  },
  {
   "cell_type": "code",
   "execution_count": 20,
   "metadata": {},
   "outputs": [],
   "source": [
    "x = False\n",
    "\n",
    "if (x == True):\n",
    "    print(\"It's true!\")"
   ]
  },
  {
   "cell_type": "markdown",
   "metadata": {},
   "source": [
    "### A simple if test"
   ]
  },
  {
   "cell_type": "code",
   "execution_count": null,
   "metadata": {},
   "outputs": [],
   "source": [
    "age = input(\"How old are you?\")\n",
    "age = int(age)\n",
    "if age > 18 :\n",
    "    print(\"You are adult!\")"
   ]
  },
  {
   "cell_type": "markdown",
   "metadata": {},
   "source": [
    "### if-else statements"
   ]
  },
  {
   "cell_type": "code",
   "execution_count": 21,
   "metadata": {},
   "outputs": [
    {
     "name": "stdout",
     "output_type": "stream",
     "text": [
      "How old are you?18\n",
      "You are young!\n"
     ]
    }
   ],
   "source": [
    "age = input(\"How old are you?\")\n",
    "age = int(age)\n",
    "if age > 18 :\n",
    "    print(\"You are adult!\")\n",
    "else :\n",
    "    print(\"You are young!\")"
   ]
  },
  {
   "cell_type": "markdown",
   "metadata": {},
   "source": [
    "### if-elif-else"
   ]
  },
  {
   "cell_type": "code",
   "execution_count": 23,
   "metadata": {},
   "outputs": [
    {
     "name": "stdout",
     "output_type": "stream",
     "text": [
      "How old are you?13\n",
      "Your ticket is half price!\n"
     ]
    }
   ],
   "source": [
    "age = input(\"How old are you?\")\n",
    "age = int(age)\n",
    "if age < 4 :\n",
    "    print(\"Your ticket is free!\")\n",
    "elif age < 18 :\n",
    "    print(\"Your ticket is half price!\")\n",
    "else :\n",
    "    print(\"Your ticket if full price!\")"
   ]
  },
  {
   "cell_type": "markdown",
   "metadata": {},
   "source": [
    "<hr>"
   ]
  },
  {
   "cell_type": "markdown",
   "metadata": {},
   "source": [
    "# While loops"
   ]
  },
  {
   "cell_type": "markdown",
   "metadata": {},
   "source": [
    "### A simple while loop"
   ]
  },
  {
   "cell_type": "code",
   "execution_count": 24,
   "metadata": {},
   "outputs": [
    {
     "name": "stdout",
     "output_type": "stream",
     "text": [
      "1\n",
      "2\n",
      "3\n",
      "4\n",
      "5\n"
     ]
    }
   ],
   "source": [
    "i = 1\n",
    "while i <= 5:\n",
    "    print(i)\n",
    "    i += 1"
   ]
  },
  {
   "cell_type": "code",
   "execution_count": 1,
   "metadata": {},
   "outputs": [
    {
     "name": "stdout",
     "output_type": "stream",
     "text": [
      "5\n",
      "4\n",
      "3\n",
      "2\n",
      "1\n"
     ]
    }
   ],
   "source": [
    "i = 5\n",
    "while i >= 1:\n",
    "    print(i)\n",
    "    i -= 1"
   ]
  },
  {
   "cell_type": "markdown",
   "metadata": {},
   "source": [
    "### Letting the user choose when to quit"
   ]
  },
  {
   "cell_type": "code",
   "execution_count": 25,
   "metadata": {},
   "outputs": [
    {
     "name": "stdout",
     "output_type": "stream",
     "text": [
      "What is your message?quit\n",
      "quit\n"
     ]
    }
   ],
   "source": [
    "msg = ''\n",
    "while msg != 'quit':\n",
    "    msg = input(\"What is your message?\")\n",
    "    print(msg)"
   ]
  },
  {
   "cell_type": "markdown",
   "metadata": {},
   "source": [
    "<hr>"
   ]
  },
  {
   "cell_type": "markdown",
   "metadata": {},
   "source": [
    "# Lists"
   ]
  },
  {
   "cell_type": "markdown",
   "metadata": {},
   "source": [
    "A list stores a series of items in a particular order. You can access items using an index or within a loop. Lists allow us to store information whether they are simple information or millions of items."
   ]
  },
  {
   "cell_type": "markdown",
   "metadata": {},
   "source": [
    "### Defining a list"
   ]
  },
  {
   "cell_type": "code",
   "execution_count": 3,
   "metadata": {},
   "outputs": [],
   "source": [
    "users = ['seham', 'nojood', 'tahani', 'asrar', 'asma']"
   ]
  },
  {
   "cell_type": "markdown",
   "metadata": {},
   "source": [
    "### Accessing elements"
   ]
  },
  {
   "cell_type": "markdown",
   "metadata": {},
   "source": [
    "Inidividual elements in the list are accessed according to their position called index. The index of the first element is 0, the second is 1, and so on. Negative indices refers to the elements at the end of the list."
   ]
  },
  {
   "cell_type": "code",
   "execution_count": 5,
   "metadata": {},
   "outputs": [
    {
     "name": "stdout",
     "output_type": "stream",
     "text": [
      "seham\n"
     ]
    }
   ],
   "source": [
    "x = users[0]\n",
    "print(x)"
   ]
  },
  {
   "cell_type": "code",
   "execution_count": 6,
   "metadata": {},
   "outputs": [
    {
     "name": "stdout",
     "output_type": "stream",
     "text": [
      "nojood\n"
     ]
    }
   ],
   "source": [
    "x = users[1]\n",
    "print(x)"
   ]
  },
  {
   "cell_type": "code",
   "execution_count": 7,
   "metadata": {},
   "outputs": [
    {
     "name": "stdout",
     "output_type": "stream",
     "text": [
      "asma\n"
     ]
    }
   ],
   "source": [
    "x = users[-1]\n",
    "print(x)"
   ]
  },
  {
   "cell_type": "code",
   "execution_count": 8,
   "metadata": {},
   "outputs": [
    {
     "name": "stdout",
     "output_type": "stream",
     "text": [
      "asrar\n"
     ]
    }
   ],
   "source": [
    "x = users[-2]\n",
    "print(x)"
   ]
  },
  {
   "cell_type": "markdown",
   "metadata": {},
   "source": [
    "### Modifying individual elements"
   ]
  },
  {
   "cell_type": "code",
   "execution_count": 10,
   "metadata": {},
   "outputs": [
    {
     "name": "stdout",
     "output_type": "stream",
     "text": [
      "['Seham Jalali', 'nojood', 'tahani', 'asrar', 'asma']\n"
     ]
    }
   ],
   "source": [
    "users[0] = 'Seham Jalali'\n",
    "print(users)"
   ]
  },
  {
   "cell_type": "code",
   "execution_count": 11,
   "metadata": {},
   "outputs": [
    {
     "name": "stdout",
     "output_type": "stream",
     "text": [
      "['Seham Jalali', 'nojood', 'tahani', 'asrar', 'Asma Althobaiti']\n"
     ]
    }
   ],
   "source": [
    "users[-1] = 'Asma Althobaiti'\n",
    "print(users)"
   ]
  },
  {
   "cell_type": "markdown",
   "metadata": {},
   "source": [
    "### Adding element to the end of the list (append)"
   ]
  },
  {
   "cell_type": "code",
   "execution_count": 13,
   "metadata": {},
   "outputs": [
    {
     "name": "stdout",
     "output_type": "stream",
     "text": [
      "['Seham Jalali', 'nojood', 'tahani', 'asrar', 'Asma Althobaiti', 'Salha', 'Salha']\n"
     ]
    }
   ],
   "source": [
    "users.append('Salha')\n",
    "print(users)"
   ]
  },
  {
   "cell_type": "code",
   "execution_count": 14,
   "metadata": {},
   "outputs": [],
   "source": [
    "#starting empty list\n",
    "users = []\n",
    "users.append('a')\n",
    "users.append('b')\n",
    "users.append('c')"
   ]
  },
  {
   "cell_type": "code",
   "execution_count": 15,
   "metadata": {},
   "outputs": [
    {
     "name": "stdout",
     "output_type": "stream",
     "text": [
      "['a', 'b', 'c']\n"
     ]
    }
   ],
   "source": [
    "print(users)"
   ]
  },
  {
   "cell_type": "markdown",
   "metadata": {},
   "source": [
    "### Adding element to a particular position of the list (insert)"
   ]
  },
  {
   "cell_type": "code",
   "execution_count": 16,
   "metadata": {},
   "outputs": [
    {
     "name": "stdout",
     "output_type": "stream",
     "text": [
      "['x', 'a', 'b', 's', 'c']\n"
     ]
    }
   ],
   "source": [
    "users.insert(0, 'x')\n",
    "users.insert(3,'s')\n",
    "print(users)"
   ]
  },
  {
   "cell_type": "markdown",
   "metadata": {},
   "source": [
    "### Removing element by its position"
   ]
  },
  {
   "cell_type": "code",
   "execution_count": 17,
   "metadata": {},
   "outputs": [
    {
     "name": "stdout",
     "output_type": "stream",
     "text": [
      "['x', 'a', 'b', 's']\n"
     ]
    }
   ],
   "source": [
    "del users[-1]\n",
    "print(users)"
   ]
  },
  {
   "cell_type": "markdown",
   "metadata": {},
   "source": [
    "### Removing elmenet by its value"
   ]
  },
  {
   "cell_type": "code",
   "execution_count": 18,
   "metadata": {},
   "outputs": [
    {
     "name": "stdout",
     "output_type": "stream",
     "text": [
      "['a', 'b', 's']\n"
     ]
    }
   ],
   "source": [
    "users.remove('x')\n",
    "print(users)"
   ]
  },
  {
   "cell_type": "markdown",
   "metadata": {},
   "source": [
    "### Pop the last element from a list"
   ]
  },
  {
   "cell_type": "markdown",
   "metadata": {},
   "source": [
    "If you want to work with an element that you are removing, you can pop the element"
   ]
  },
  {
   "cell_type": "code",
   "execution_count": 19,
   "metadata": {},
   "outputs": [
    {
     "name": "stdout",
     "output_type": "stream",
     "text": [
      "s\n",
      "['a', 'b']\n"
     ]
    }
   ],
   "source": [
    "last = users.pop()\n",
    "print(last)\n",
    "print(users)"
   ]
  },
  {
   "cell_type": "markdown",
   "metadata": {},
   "source": [
    "### Pop the first element in a list"
   ]
  },
  {
   "cell_type": "code",
   "execution_count": 20,
   "metadata": {},
   "outputs": [
    {
     "name": "stdout",
     "output_type": "stream",
     "text": [
      "a\n",
      "['b']\n"
     ]
    }
   ],
   "source": [
    "first = users.pop(0)\n",
    "print(first)\n",
    "print(users)"
   ]
  },
  {
   "cell_type": "markdown",
   "metadata": {},
   "source": [
    "### List length"
   ]
  },
  {
   "cell_type": "code",
   "execution_count": 21,
   "metadata": {},
   "outputs": [
    {
     "name": "stdout",
     "output_type": "stream",
     "text": [
      "5\n"
     ]
    }
   ],
   "source": [
    "users = ['seham', 'nojood', 'tahani', 'asrar', 'asma']\n",
    "print(len(users))"
   ]
  },
  {
   "cell_type": "code",
   "execution_count": 22,
   "metadata": {},
   "outputs": [
    {
     "name": "stdout",
     "output_type": "stream",
     "text": [
      "We have 5 students in data science\n"
     ]
    }
   ],
   "source": [
    "num = len(users)\n",
    "print('We have ' + str(num) + ' students in data science')"
   ]
  },
  {
   "cell_type": "markdown",
   "metadata": {},
   "source": [
    "### Sorting a list"
   ]
  },
  {
   "cell_type": "markdown",
   "metadata": {},
   "source": [
    "#### Sorting a list permanently"
   ]
  },
  {
   "cell_type": "code",
   "execution_count": 23,
   "metadata": {},
   "outputs": [
    {
     "name": "stdout",
     "output_type": "stream",
     "text": [
      "['asma', 'asrar', 'nojood', 'seham', 'tahani']\n"
     ]
    }
   ],
   "source": [
    "users = ['seham', 'nojood', 'tahani', 'asrar', 'asma']\n",
    "users.sort()\n",
    "print(users)"
   ]
  },
  {
   "cell_type": "markdown",
   "metadata": {},
   "source": [
    "#### Sorting a list permanently in reverse order"
   ]
  },
  {
   "cell_type": "code",
   "execution_count": 24,
   "metadata": {},
   "outputs": [
    {
     "name": "stdout",
     "output_type": "stream",
     "text": [
      "['tahani', 'seham', 'nojood', 'asrar', 'asma']\n"
     ]
    }
   ],
   "source": [
    "users = ['seham', 'nojood', 'tahani', 'asrar', 'asma']\n",
    "users.sort(reverse = True)\n",
    "print(users)"
   ]
  },
  {
   "cell_type": "markdown",
   "metadata": {},
   "source": [
    "#### Sorting a list temporarily"
   ]
  },
  {
   "cell_type": "code",
   "execution_count": 25,
   "metadata": {},
   "outputs": [
    {
     "name": "stdout",
     "output_type": "stream",
     "text": [
      "['asma', 'asrar', 'nojood', 'seham', 'tahani']\n"
     ]
    }
   ],
   "source": [
    "users = ['seham', 'nojood', 'tahani', 'asrar', 'asma']\n",
    "print(sorted(users))"
   ]
  },
  {
   "cell_type": "code",
   "execution_count": 26,
   "metadata": {},
   "outputs": [
    {
     "name": "stdout",
     "output_type": "stream",
     "text": [
      "['seham', 'nojood', 'tahani', 'asrar', 'asma']\n"
     ]
    }
   ],
   "source": [
    "print(users)"
   ]
  },
  {
   "cell_type": "code",
   "execution_count": 29,
   "metadata": {},
   "outputs": [
    {
     "name": "stdout",
     "output_type": "stream",
     "text": [
      "['tahani', 'seham', 'nojood', 'asrar', 'asma']\n"
     ]
    }
   ],
   "source": [
    "users = ['seham', 'nojood', 'tahani', 'asrar', 'asma']\n",
    "print(sorted(users, reverse = True))"
   ]
  },
  {
   "cell_type": "code",
   "execution_count": 30,
   "metadata": {},
   "outputs": [
    {
     "name": "stdout",
     "output_type": "stream",
     "text": [
      "['seham', 'nojood', 'tahani', 'asrar', 'asma']\n"
     ]
    }
   ],
   "source": [
    "print(users)"
   ]
  },
  {
   "cell_type": "markdown",
   "metadata": {},
   "source": [
    "#### Reversing order"
   ]
  },
  {
   "cell_type": "code",
   "execution_count": 31,
   "metadata": {},
   "outputs": [
    {
     "name": "stdout",
     "output_type": "stream",
     "text": [
      "['asma', 'asrar', 'tahani', 'nojood', 'seham']\n"
     ]
    }
   ],
   "source": [
    "users.reverse()\n",
    "print(users)"
   ]
  },
  {
   "cell_type": "code",
   "execution_count": 32,
   "metadata": {},
   "outputs": [
    {
     "name": "stdout",
     "output_type": "stream",
     "text": [
      "['seham', 'nojood', 'tahani', 'asrar', 'asma']\n"
     ]
    }
   ],
   "source": [
    "users.reverse()\n",
    "print(users)"
   ]
  },
  {
   "cell_type": "markdown",
   "metadata": {},
   "source": [
    "### Looping through a list"
   ]
  },
  {
   "cell_type": "code",
   "execution_count": 33,
   "metadata": {},
   "outputs": [
    {
     "name": "stdout",
     "output_type": "stream",
     "text": [
      "seham\n",
      "nojood\n",
      "tahani\n",
      "asrar\n",
      "asma\n"
     ]
    }
   ],
   "source": [
    "for user in users :\n",
    "    print(user)"
   ]
  },
  {
   "cell_type": "markdown",
   "metadata": {},
   "source": [
    "<hr>"
   ]
  },
  {
   "cell_type": "markdown",
   "metadata": {},
   "source": [
    "# Tuples"
   ]
  },
  {
   "cell_type": "markdown",
   "metadata": {},
   "source": [
    "Typles are similar to lists but the items in a tuple can't be modified."
   ]
  },
  {
   "cell_type": "code",
   "execution_count": 34,
   "metadata": {},
   "outputs": [
    {
     "name": "stdout",
     "output_type": "stream",
     "text": [
      "(1920, 1080)\n"
     ]
    }
   ],
   "source": [
    "d = (1920, 1080)\n",
    "print(d)"
   ]
  },
  {
   "cell_type": "code",
   "execution_count": 36,
   "metadata": {},
   "outputs": [
    {
     "name": "stdout",
     "output_type": "stream",
     "text": [
      "('apple', 'banana', 'cherry')\n",
      "3\n",
      "apple\n"
     ]
    }
   ],
   "source": [
    "mytuple = (\"apple\", \"banana\", \"cherry\")\n",
    "print(mytuple)\n",
    "print(len(mytuple))\n",
    "print(mytuple[0])"
   ]
  },
  {
   "cell_type": "markdown",
   "metadata": {},
   "source": [
    "<hr>"
   ]
  },
  {
   "cell_type": "markdown",
   "metadata": {},
   "source": [
    "# Dictionaries"
   ]
  },
  {
   "cell_type": "markdown",
   "metadata": {},
   "source": [
    "Dictionaries store connections between pieces of information. Each item in a dictionary is a key-value pair."
   ]
  },
  {
   "cell_type": "code",
   "execution_count": 37,
   "metadata": {},
   "outputs": [
    {
     "name": "stdout",
     "output_type": "stream",
     "text": [
      "The student name is Asrar\n"
     ]
    }
   ],
   "source": [
    "student = {'name' : 'Asrar', 'ID' : '123', 'GPA' : 4, 'address' : 'Taif'}\n",
    "print('The student name is ' + student['name'])"
   ]
  },
  {
   "cell_type": "code",
   "execution_count": 38,
   "metadata": {},
   "outputs": [],
   "source": [
    "student['marks in course1'] = 100"
   ]
  },
  {
   "cell_type": "code",
   "execution_count": 39,
   "metadata": {},
   "outputs": [
    {
     "name": "stdout",
     "output_type": "stream",
     "text": [
      "{'name': 'Asrar', 'ID': '123', 'GPA': 4, 'address': 'Taif', 'marks in course1': 100}\n"
     ]
    }
   ],
   "source": [
    "print(student)"
   ]
  },
  {
   "cell_type": "code",
   "execution_count": 41,
   "metadata": {},
   "outputs": [
    {
     "name": "stdout",
     "output_type": "stream",
     "text": [
      "name\n",
      "ID\n",
      "GPA\n",
      "address\n",
      "marks in course1\n"
     ]
    }
   ],
   "source": [
    "for key in student.keys() :\n",
    "    print(key)"
   ]
  },
  {
   "cell_type": "code",
   "execution_count": 42,
   "metadata": {},
   "outputs": [
    {
     "name": "stdout",
     "output_type": "stream",
     "text": [
      "Asrar\n",
      "123\n",
      "4\n",
      "Taif\n",
      "100\n"
     ]
    }
   ],
   "source": [
    "for value in student.values() :\n",
    "    print(value)"
   ]
  },
  {
   "cell_type": "code",
   "execution_count": 44,
   "metadata": {},
   "outputs": [
    {
     "name": "stdout",
     "output_type": "stream",
     "text": [
      "name is Asrar\n",
      "ID is 123\n",
      "GPA is 4\n",
      "address is Taif\n",
      "marks in course1 is 100\n"
     ]
    }
   ],
   "source": [
    "for a in student.keys() :\n",
    "    print(a + \" is \" + str(student[a]))"
   ]
  },
  {
   "cell_type": "markdown",
   "metadata": {},
   "source": [
    "<hr>"
   ]
  },
  {
   "cell_type": "markdown",
   "metadata": {},
   "source": [
    "# Functions"
   ]
  },
  {
   "cell_type": "markdown",
   "metadata": {},
   "source": [
    "Functiona are named blocks of code, designed to do one specific job. Information passed to a function is called an argument, and information received by a function is called a parameter."
   ]
  },
  {
   "cell_type": "markdown",
   "metadata": {},
   "source": [
    "### A simple function"
   ]
  },
  {
   "cell_type": "code",
   "execution_count": 45,
   "metadata": {},
   "outputs": [
    {
     "name": "stdout",
     "output_type": "stream",
     "text": [
      "Hello!\n"
     ]
    }
   ],
   "source": [
    "def greet_user():\n",
    "    print('Hello!')\n",
    "    \n",
    "greet_user()"
   ]
  },
  {
   "cell_type": "markdown",
   "metadata": {},
   "source": [
    "### Passing arguments"
   ]
  },
  {
   "cell_type": "code",
   "execution_count": 46,
   "metadata": {},
   "outputs": [
    {
     "name": "stdout",
     "output_type": "stream",
     "text": [
      "Hello Salha !\n"
     ]
    }
   ],
   "source": [
    "def greet_user(username):\n",
    "    print('Hello ' + username + ' !')\n",
    "    \n",
    "greet_user('Salha')"
   ]
  },
  {
   "cell_type": "markdown",
   "metadata": {},
   "source": [
    "### Default values for paprameters"
   ]
  },
  {
   "cell_type": "code",
   "execution_count": 47,
   "metadata": {},
   "outputs": [
    {
     "name": "stdout",
     "output_type": "stream",
     "text": [
      "Hello Salha !\n",
      "Hello everyone !\n"
     ]
    }
   ],
   "source": [
    "def greet_user(username = 'everyone'):\n",
    "    print('Hello ' + username + ' !')\n",
    "    \n",
    "greet_user('Salha')\n",
    "greet_user()"
   ]
  },
  {
   "cell_type": "markdown",
   "metadata": {},
   "source": [
    "### Returning values"
   ]
  },
  {
   "cell_type": "code",
   "execution_count": 48,
   "metadata": {},
   "outputs": [
    {
     "name": "stdout",
     "output_type": "stream",
     "text": [
      "5\n"
     ]
    }
   ],
   "source": [
    "def sum(x, y):\n",
    "    return x+y\n",
    "\n",
    "x = sum(2, 3)\n",
    "print(x)"
   ]
  },
  {
   "cell_type": "code",
   "execution_count": 2,
   "metadata": {},
   "outputs": [
    {
     "name": "stdout",
     "output_type": "stream",
     "text": [
      "Enter 1st number : 1\n",
      "Enter 2nd number : 2\n",
      "Enter 3rd number : 3\n",
      "6\n"
     ]
    }
   ],
   "source": [
    "def sum(x, y, z):\n",
    "    return x+y+z\n",
    "\n",
    "x = input(\"Enter 1st number : \")\n",
    "y = input(\"Enter 2nd number : \")\n",
    "z = input(\"Enter 3rd number : \")\n",
    "x = int(x)\n",
    "y = int(y)\n",
    "z = int(z)\n",
    "result = sum(x, y, z)\n",
    "\n",
    "print(result)"
   ]
  },
  {
   "cell_type": "markdown",
   "metadata": {},
   "source": [
    "<hr>"
   ]
  },
  {
   "cell_type": "markdown",
   "metadata": {},
   "source": [
    "# Classes"
   ]
  },
  {
   "cell_type": "markdown",
   "metadata": {},
   "source": [
    "A class defined the behavior of an object and the kind of information an object can store. The information in a class is stored in attributes, and functions that belong to a class are called methods. A child class inherits the attributes and methods from its parent class."
   ]
  },
  {
   "cell_type": "markdown",
   "metadata": {},
   "source": [
    "### Creating Class"
   ]
  },
  {
   "cell_type": "code",
   "execution_count": 50,
   "metadata": {},
   "outputs": [
    {
     "name": "stdout",
     "output_type": "stream",
     "text": [
      "Ketti is lovely!\n",
      "Ketti is sitting\n"
     ]
    }
   ],
   "source": [
    "class Cat():\n",
    "    \n",
    "    def __init__(self, name):\n",
    "        #initialize object\n",
    "        self.name = name\n",
    "    \n",
    "    def sit(self):\n",
    "        #method\n",
    "        print(self.name + ' is sitting')\n",
    "        \n",
    "#using Cat class\n",
    "mycat = Cat('Ketti')\n",
    "print(mycat.name + ' is lovely!')\n",
    "mycat.sit()"
   ]
  },
  {
   "cell_type": "markdown",
   "metadata": {},
   "source": [
    "### Inheritance"
   ]
  },
  {
   "cell_type": "code",
   "execution_count": 52,
   "metadata": {},
   "outputs": [
    {
     "name": "stdout",
     "output_type": "stream",
     "text": [
      "Ketti is lovely!\n",
      "Ketti is sitting\n",
      "Ketti is searching!\n"
     ]
    }
   ],
   "source": [
    "class SCat(Cat):\n",
    "    \n",
    "    def __init__(self, name):\n",
    "        super().__init__(name)\n",
    "        \n",
    "    def search(self):\n",
    "        print(self.name + ' is searching!')\n",
    "\n",
    "#using SCat class\n",
    "mycat = SCat('Ketti')\n",
    "print(mycat.name + ' is lovely!')\n",
    "mycat.sit()\n",
    "mycat.search()"
   ]
  },
  {
   "cell_type": "markdown",
   "metadata": {},
   "source": [
    "<hr>"
   ]
  },
  {
   "cell_type": "markdown",
   "metadata": {},
   "source": [
    "# Working with files"
   ]
  },
  {
   "cell_type": "markdown",
   "metadata": {},
   "source": [
    "Your programs can read from files and write to files, Files are opened in read mode 'r' by default, but can also be opened in write mode 'w' and append mode 'a'."
   ]
  },
  {
   "cell_type": "markdown",
   "metadata": {},
   "source": [
    "### Reading a file"
   ]
  },
  {
   "cell_type": "code",
   "execution_count": 56,
   "metadata": {},
   "outputs": [
    {
     "name": "stdout",
     "output_type": "stream",
     "text": [
      "I love you all.\n",
      "\n",
      "Thank you.\n"
     ]
    }
   ],
   "source": [
    "filename = 'myfile.txt'\n",
    "with open(filename) as file_object:\n",
    "    lines = file_object.readlines()\n",
    "\n",
    "for line in lines:\n",
    "    print(line)"
   ]
  },
  {
   "cell_type": "markdown",
   "metadata": {},
   "source": [
    "### Writing to a file"
   ]
  },
  {
   "cell_type": "code",
   "execution_count": 60,
   "metadata": {},
   "outputs": [],
   "source": [
    "filename = 'myfile.txt'\n",
    "with open(filename, 'w') as file_object:\n",
    "    file_object.write('I love programming!')"
   ]
  },
  {
   "cell_type": "markdown",
   "metadata": {},
   "source": [
    "### Appending to a file"
   ]
  },
  {
   "cell_type": "code",
   "execution_count": 61,
   "metadata": {},
   "outputs": [],
   "source": [
    "filename = 'myfile.txt'\n",
    "with open(filename, 'a') as file_object:\n",
    "    file_object.write('I love data science!')"
   ]
  },
  {
   "cell_type": "markdown",
   "metadata": {},
   "source": [
    "<hr>"
   ]
  },
  {
   "cell_type": "markdown",
   "metadata": {},
   "source": [
    "# Exceptions"
   ]
  },
  {
   "cell_type": "markdown",
   "metadata": {},
   "source": [
    "Exceptions help you respond appropriately to errors that are likely to occur. You place code that might cause an error in the try block, code that run in response to an error goes to the except block, and code that should run only if the try block successful goes to the else block."
   ]
  },
  {
   "cell_type": "code",
   "execution_count": 54,
   "metadata": {},
   "outputs": [
    {
     "name": "stdout",
     "output_type": "stream",
     "text": [
      "How many tickets do you need?2\n",
      "Your tickets are printing :)\n"
     ]
    }
   ],
   "source": [
    "prompt = \"How many tickets do you need?\"\n",
    "num_tickets = input(prompt)\n",
    "\n",
    "try:\n",
    "    num_tickets = int(num_tickets)\n",
    "except ValueError:\n",
    "    print(\"Please try again!\")\n",
    "else:\n",
    "    print(\"Your tickets are printing :)\")"
   ]
  }
 ],
 "metadata": {
  "kernelspec": {
   "display_name": "Python 3",
   "language": "python",
   "name": "python3"
  },
  "language_info": {
   "codemirror_mode": {
    "name": "ipython",
    "version": 3
   },
   "file_extension": ".py",
   "mimetype": "text/x-python",
   "name": "python",
   "nbconvert_exporter": "python",
   "pygments_lexer": "ipython3",
   "version": "3.8.5"
  }
 },
 "nbformat": 4,
 "nbformat_minor": 4
}
