{
 "cells": [
  {
   "cell_type": "markdown",
   "metadata": {},
   "source": [
    "# Data Exploration : Yelp Dataset "
   ]
  },
  {
   "cell_type": "markdown",
   "metadata": {},
   "source": [
    "A public dataset made available by the resurants review site; Yelp. All personally identifiable information has been removed."
   ]
  },
  {
   "cell_type": "markdown",
   "metadata": {},
   "source": [
    "### Read the data"
   ]
  },
  {
   "cell_type": "code",
   "execution_count": 2,
   "metadata": {},
   "outputs": [
    {
     "data": {
      "text/html": [
       "<div>\n",
       "<style scoped>\n",
       "    .dataframe tbody tr th:only-of-type {\n",
       "        vertical-align: middle;\n",
       "    }\n",
       "\n",
       "    .dataframe tbody tr th {\n",
       "        vertical-align: top;\n",
       "    }\n",
       "\n",
       "    .dataframe thead th {\n",
       "        text-align: right;\n",
       "    }\n",
       "</style>\n",
       "<table border=\"1\" class=\"dataframe\">\n",
       "  <thead>\n",
       "    <tr style=\"text-align: right;\">\n",
       "      <th></th>\n",
       "      <th>review_id</th>\n",
       "      <th>user_id</th>\n",
       "      <th>business_id</th>\n",
       "      <th>stars</th>\n",
       "      <th>date</th>\n",
       "      <th>text</th>\n",
       "      <th>useful</th>\n",
       "      <th>funny</th>\n",
       "      <th>cool</th>\n",
       "    </tr>\n",
       "  </thead>\n",
       "  <tbody>\n",
       "    <tr>\n",
       "      <th>0</th>\n",
       "      <td>vkVSCC7xljjrAI4UGfnKEQ</td>\n",
       "      <td>bv2nCi5Qv5vroFiqKGopiw</td>\n",
       "      <td>AEx2SYEUJmTxVVB18LlCwA</td>\n",
       "      <td>5</td>\n",
       "      <td>2016-05-28</td>\n",
       "      <td>Super simple place but amazing nonetheless. It...</td>\n",
       "      <td>0</td>\n",
       "      <td>0</td>\n",
       "      <td>0</td>\n",
       "    </tr>\n",
       "    <tr>\n",
       "      <th>1</th>\n",
       "      <td>n6QzIUObkYshz4dz2QRJTw</td>\n",
       "      <td>bv2nCi5Qv5vroFiqKGopiw</td>\n",
       "      <td>VR6GpWIda3SfvPC-lg9H3w</td>\n",
       "      <td>5</td>\n",
       "      <td>2016-05-28</td>\n",
       "      <td>Small unassuming place that changes their menu...</td>\n",
       "      <td>0</td>\n",
       "      <td>0</td>\n",
       "      <td>0</td>\n",
       "    </tr>\n",
       "    <tr>\n",
       "      <th>2</th>\n",
       "      <td>MV3CcKScW05u5LVfF6ok0g</td>\n",
       "      <td>bv2nCi5Qv5vroFiqKGopiw</td>\n",
       "      <td>CKC0-MOWMqoeWf6s-szl8g</td>\n",
       "      <td>5</td>\n",
       "      <td>2016-05-28</td>\n",
       "      <td>Lester's is located in a beautiful neighborhoo...</td>\n",
       "      <td>0</td>\n",
       "      <td>0</td>\n",
       "      <td>0</td>\n",
       "    </tr>\n",
       "    <tr>\n",
       "      <th>3</th>\n",
       "      <td>IXvOzsEMYtiJI0CARmj77Q</td>\n",
       "      <td>bv2nCi5Qv5vroFiqKGopiw</td>\n",
       "      <td>ACFtxLv8pGrrxMm6EgjreA</td>\n",
       "      <td>4</td>\n",
       "      <td>2016-05-28</td>\n",
       "      <td>Love coming here. Yes the place always needs t...</td>\n",
       "      <td>0</td>\n",
       "      <td>0</td>\n",
       "      <td>0</td>\n",
       "    </tr>\n",
       "    <tr>\n",
       "      <th>4</th>\n",
       "      <td>L_9BTb55X0GDtThi6GlZ6w</td>\n",
       "      <td>bv2nCi5Qv5vroFiqKGopiw</td>\n",
       "      <td>s2I_Ni76bjJNK9yG60iD-Q</td>\n",
       "      <td>4</td>\n",
       "      <td>2016-05-28</td>\n",
       "      <td>Had their chocolate almond croissant and it wa...</td>\n",
       "      <td>0</td>\n",
       "      <td>0</td>\n",
       "      <td>0</td>\n",
       "    </tr>\n",
       "  </tbody>\n",
       "</table>\n",
       "</div>"
      ],
      "text/plain": [
       "                review_id                 user_id             business_id  \\\n",
       "0  vkVSCC7xljjrAI4UGfnKEQ  bv2nCi5Qv5vroFiqKGopiw  AEx2SYEUJmTxVVB18LlCwA   \n",
       "1  n6QzIUObkYshz4dz2QRJTw  bv2nCi5Qv5vroFiqKGopiw  VR6GpWIda3SfvPC-lg9H3w   \n",
       "2  MV3CcKScW05u5LVfF6ok0g  bv2nCi5Qv5vroFiqKGopiw  CKC0-MOWMqoeWf6s-szl8g   \n",
       "3  IXvOzsEMYtiJI0CARmj77Q  bv2nCi5Qv5vroFiqKGopiw  ACFtxLv8pGrrxMm6EgjreA   \n",
       "4  L_9BTb55X0GDtThi6GlZ6w  bv2nCi5Qv5vroFiqKGopiw  s2I_Ni76bjJNK9yG60iD-Q   \n",
       "\n",
       "   stars        date                                               text  \\\n",
       "0      5  2016-05-28  Super simple place but amazing nonetheless. It...   \n",
       "1      5  2016-05-28  Small unassuming place that changes their menu...   \n",
       "2      5  2016-05-28  Lester's is located in a beautiful neighborhoo...   \n",
       "3      4  2016-05-28  Love coming here. Yes the place always needs t...   \n",
       "4      4  2016-05-28  Had their chocolate almond croissant and it wa...   \n",
       "\n",
       "   useful  funny  cool  \n",
       "0       0      0     0  \n",
       "1       0      0     0  \n",
       "2       0      0     0  \n",
       "3       0      0     0  \n",
       "4       0      0     0  "
      ]
     },
     "execution_count": 2,
     "metadata": {},
     "output_type": "execute_result"
    }
   ],
   "source": [
    "import pandas as pd\n",
    "yelp_raw_data = pd.read_csv(\"yelp_review.csv\")\n",
    "yelp_raw_data.head()"
   ]
  },
  {
   "cell_type": "markdown",
   "metadata": {},
   "source": [
    "## Is the data organized or not?"
   ]
  },
  {
   "cell_type": "markdown",
   "metadata": {},
   "source": [
    "Because we have a nice row/column structure, we can conclude that this\n",
    "data seems pretty organized."
   ]
  },
  {
   "cell_type": "markdown",
   "metadata": {},
   "source": [
    "## What does each row represent?"
   ]
  },
  {
   "cell_type": "markdown",
   "metadata": {},
   "source": [
    "It seems pretty obvious that each row represents a user giving a review of a\n",
    "business. The next thing we should do is to examine each row and label it by\n",
    "the type of data it contains. At this point, we can also use python to figure\n",
    "out just how big our dataset is. We can use the shape quality of a Dataframe\n",
    "to find this out, as shown:"
   ]
  },
  {
   "cell_type": "code",
   "execution_count": 3,
   "metadata": {},
   "outputs": [
    {
     "data": {
      "text/plain": [
       "(5261668, 9)"
      ]
     },
     "execution_count": 3,
     "metadata": {},
     "output_type": "execute_result"
    }
   ],
   "source": [
    "yelp_raw_data.shape"
   ]
  },
  {
   "cell_type": "markdown",
   "metadata": {},
   "source": [
    "It tells us that this dataset has 5261668 rows and 9 columns. Another way to\n",
    "say this is that this dataset has 5261668 observations and 9 characteristics."
   ]
  },
  {
   "cell_type": "markdown",
   "metadata": {},
   "source": [
    "## What does each column represent?"
   ]
  },
  {
   "cell_type": "markdown",
   "metadata": {},
   "source": [
    "• review_id: This is likely a unique identifier for the review that each post\n",
    "represents. This would be at the nominal level because, again, there is no\n",
    "natural order to this identifier.\n",
    "\n",
    "\n",
    "• user_id: This is likely a unique identifier for the user who is writing the\n",
    "review. Just like the other unique IDs, we place this data at the nominal\n",
    "level.\n",
    "\n",
    "\n",
    "• business_id: This is likely a unique identifier for the business the review is\n",
    "for. This would be at the nominal level because there is no natural order to\n",
    "this identifier.\n",
    "\n",
    "\n",
    "• stars: From a quick look (don't worry; we will perform some further\n",
    "analysis soon), we can see that this is an ordered column that represents\n",
    "what the reviewer gave the restaurant as a final score. This is ordered and\n",
    "qualitative; so, this is at the ordinal level.\n",
    "\n",
    "\n",
    "• date: This is probably the date at which the review was posted. Note that\n",
    "it seems to be only specific to the day, month, and year. Even though time\n",
    "is usually considered continuous, this column would likely be considered\n",
    "discrete and at the ordinal level because of the natural order that dates have.\n",
    "\n",
    "\n",
    "\n",
    "• text: This is likely the raw text that each reviewer wrote. As with most text,\n",
    "we place this at the nominal level.\n",
    "\n",
    "\n",
    "• useful, funny cool: Boolean features. We\n",
    "place this at the nominal level.\n",
    "\n",
    "\n"
   ]
  },
  {
   "cell_type": "markdown",
   "metadata": {},
   "source": [
    "## Are there any missing data points?"
   ]
  },
  {
   "cell_type": "markdown",
   "metadata": {},
   "source": [
    "Perform an isnull operation to show the number of missing values in each\n",
    "column."
   ]
  },
  {
   "cell_type": "code",
   "execution_count": 4,
   "metadata": {},
   "outputs": [
    {
     "data": {
      "text/plain": [
       "review_id      0\n",
       "user_id        0\n",
       "business_id    0\n",
       "stars          0\n",
       "date           0\n",
       "text           0\n",
       "useful         0\n",
       "funny          0\n",
       "cool           0\n",
       "dtype: int64"
      ]
     },
     "execution_count": 4,
     "metadata": {},
     "output_type": "execute_result"
    }
   ],
   "source": [
    "yelp_raw_data.isnull().sum()"
   ]
  },
  {
   "cell_type": "code",
   "execution_count": 5,
   "metadata": {},
   "outputs": [
    {
     "data": {
      "text/html": [
       "<div>\n",
       "<style scoped>\n",
       "    .dataframe tbody tr th:only-of-type {\n",
       "        vertical-align: middle;\n",
       "    }\n",
       "\n",
       "    .dataframe tbody tr th {\n",
       "        vertical-align: top;\n",
       "    }\n",
       "\n",
       "    .dataframe thead th {\n",
       "        text-align: right;\n",
       "    }\n",
       "</style>\n",
       "<table border=\"1\" class=\"dataframe\">\n",
       "  <thead>\n",
       "    <tr style=\"text-align: right;\">\n",
       "      <th></th>\n",
       "      <th>review_id</th>\n",
       "      <th>user_id</th>\n",
       "      <th>business_id</th>\n",
       "      <th>stars</th>\n",
       "      <th>date</th>\n",
       "      <th>text</th>\n",
       "      <th>useful</th>\n",
       "      <th>funny</th>\n",
       "      <th>cool</th>\n",
       "    </tr>\n",
       "  </thead>\n",
       "  <tbody>\n",
       "    <tr>\n",
       "      <th>0</th>\n",
       "      <td>False</td>\n",
       "      <td>False</td>\n",
       "      <td>False</td>\n",
       "      <td>False</td>\n",
       "      <td>False</td>\n",
       "      <td>False</td>\n",
       "      <td>False</td>\n",
       "      <td>False</td>\n",
       "      <td>False</td>\n",
       "    </tr>\n",
       "    <tr>\n",
       "      <th>1</th>\n",
       "      <td>False</td>\n",
       "      <td>False</td>\n",
       "      <td>False</td>\n",
       "      <td>False</td>\n",
       "      <td>False</td>\n",
       "      <td>False</td>\n",
       "      <td>False</td>\n",
       "      <td>False</td>\n",
       "      <td>False</td>\n",
       "    </tr>\n",
       "    <tr>\n",
       "      <th>2</th>\n",
       "      <td>False</td>\n",
       "      <td>False</td>\n",
       "      <td>False</td>\n",
       "      <td>False</td>\n",
       "      <td>False</td>\n",
       "      <td>False</td>\n",
       "      <td>False</td>\n",
       "      <td>False</td>\n",
       "      <td>False</td>\n",
       "    </tr>\n",
       "    <tr>\n",
       "      <th>3</th>\n",
       "      <td>False</td>\n",
       "      <td>False</td>\n",
       "      <td>False</td>\n",
       "      <td>False</td>\n",
       "      <td>False</td>\n",
       "      <td>False</td>\n",
       "      <td>False</td>\n",
       "      <td>False</td>\n",
       "      <td>False</td>\n",
       "    </tr>\n",
       "    <tr>\n",
       "      <th>4</th>\n",
       "      <td>False</td>\n",
       "      <td>False</td>\n",
       "      <td>False</td>\n",
       "      <td>False</td>\n",
       "      <td>False</td>\n",
       "      <td>False</td>\n",
       "      <td>False</td>\n",
       "      <td>False</td>\n",
       "      <td>False</td>\n",
       "    </tr>\n",
       "    <tr>\n",
       "      <th>...</th>\n",
       "      <td>...</td>\n",
       "      <td>...</td>\n",
       "      <td>...</td>\n",
       "      <td>...</td>\n",
       "      <td>...</td>\n",
       "      <td>...</td>\n",
       "      <td>...</td>\n",
       "      <td>...</td>\n",
       "      <td>...</td>\n",
       "    </tr>\n",
       "    <tr>\n",
       "      <th>5261663</th>\n",
       "      <td>False</td>\n",
       "      <td>False</td>\n",
       "      <td>False</td>\n",
       "      <td>False</td>\n",
       "      <td>False</td>\n",
       "      <td>False</td>\n",
       "      <td>False</td>\n",
       "      <td>False</td>\n",
       "      <td>False</td>\n",
       "    </tr>\n",
       "    <tr>\n",
       "      <th>5261664</th>\n",
       "      <td>False</td>\n",
       "      <td>False</td>\n",
       "      <td>False</td>\n",
       "      <td>False</td>\n",
       "      <td>False</td>\n",
       "      <td>False</td>\n",
       "      <td>False</td>\n",
       "      <td>False</td>\n",
       "      <td>False</td>\n",
       "    </tr>\n",
       "    <tr>\n",
       "      <th>5261665</th>\n",
       "      <td>False</td>\n",
       "      <td>False</td>\n",
       "      <td>False</td>\n",
       "      <td>False</td>\n",
       "      <td>False</td>\n",
       "      <td>False</td>\n",
       "      <td>False</td>\n",
       "      <td>False</td>\n",
       "      <td>False</td>\n",
       "    </tr>\n",
       "    <tr>\n",
       "      <th>5261666</th>\n",
       "      <td>False</td>\n",
       "      <td>False</td>\n",
       "      <td>False</td>\n",
       "      <td>False</td>\n",
       "      <td>False</td>\n",
       "      <td>False</td>\n",
       "      <td>False</td>\n",
       "      <td>False</td>\n",
       "      <td>False</td>\n",
       "    </tr>\n",
       "    <tr>\n",
       "      <th>5261667</th>\n",
       "      <td>False</td>\n",
       "      <td>False</td>\n",
       "      <td>False</td>\n",
       "      <td>False</td>\n",
       "      <td>False</td>\n",
       "      <td>False</td>\n",
       "      <td>False</td>\n",
       "      <td>False</td>\n",
       "      <td>False</td>\n",
       "    </tr>\n",
       "  </tbody>\n",
       "</table>\n",
       "<p>5261668 rows × 9 columns</p>\n",
       "</div>"
      ],
      "text/plain": [
       "         review_id  user_id  business_id  stars   date   text  useful  funny  \\\n",
       "0            False    False        False  False  False  False   False  False   \n",
       "1            False    False        False  False  False  False   False  False   \n",
       "2            False    False        False  False  False  False   False  False   \n",
       "3            False    False        False  False  False  False   False  False   \n",
       "4            False    False        False  False  False  False   False  False   \n",
       "...            ...      ...          ...    ...    ...    ...     ...    ...   \n",
       "5261663      False    False        False  False  False  False   False  False   \n",
       "5261664      False    False        False  False  False  False   False  False   \n",
       "5261665      False    False        False  False  False  False   False  False   \n",
       "5261666      False    False        False  False  False  False   False  False   \n",
       "5261667      False    False        False  False  False  False   False  False   \n",
       "\n",
       "          cool  \n",
       "0        False  \n",
       "1        False  \n",
       "2        False  \n",
       "3        False  \n",
       "4        False  \n",
       "...        ...  \n",
       "5261663  False  \n",
       "5261664  False  \n",
       "5261665  False  \n",
       "5261666  False  \n",
       "5261667  False  \n",
       "\n",
       "[5261668 rows x 9 columns]"
      ]
     },
     "execution_count": 5,
     "metadata": {},
     "output_type": "execute_result"
    }
   ],
   "source": [
    "yelp_raw_data.isnull()"
   ]
  },
  {
   "cell_type": "markdown",
   "metadata": {},
   "source": [
    "## Do we need to perform any transformations on the columns?"
   ]
  },
  {
   "cell_type": "markdown",
   "metadata": {},
   "source": [
    "At this point, we are looking for a few things. For example, will we need to\n",
    "change the scale of some of the quantitative data, or do we need to create\n",
    "dummy variables for the qualitative variables? As this dataset has only\n",
    "qualitative columns, we can only focus on transformations at the ordinal and\n",
    "nominal scale."
   ]
  },
  {
   "cell_type": "markdown",
   "metadata": {},
   "source": [
    "<hr>"
   ]
  },
  {
   "cell_type": "markdown",
   "metadata": {},
   "source": [
    "## Dataframes"
   ]
  },
  {
   "cell_type": "markdown",
   "metadata": {},
   "source": [
    "When we read in a dataset, Pandas creates a custom object called Dataframe. Think\n",
    "of this as the python version of a spreadsheet (but way better). In this case, the\n",
    "variable, yelp_raw_data, is a Dataframe."
   ]
  },
  {
   "cell_type": "code",
   "execution_count": 6,
   "metadata": {},
   "outputs": [
    {
     "data": {
      "text/plain": [
       "pandas.core.frame.DataFrame"
      ]
     },
     "execution_count": 6,
     "metadata": {},
     "output_type": "execute_result"
    }
   ],
   "source": [
    "type(yelp_raw_data)"
   ]
  },
  {
   "cell_type": "markdown",
   "metadata": {},
   "source": [
    "## Series"
   ]
  },
  {
   "cell_type": "markdown",
   "metadata": {},
   "source": [
    "The Series object is simply a Dataframe, but only with one dimension. Essentially,\n",
    "it is a list of data points. Each column of a Dataframe is considered to be a Series\n",
    "object. Let's check this. The first thing we need to do is grab a single column from our\n",
    "Dataframe; we generally use what is known as bracket notation."
   ]
  },
  {
   "cell_type": "code",
   "execution_count": 12,
   "metadata": {},
   "outputs": [
    {
     "data": {
      "text/plain": [
       "0          AEx2SYEUJmTxVVB18LlCwA\n",
       "1          VR6GpWIda3SfvPC-lg9H3w\n",
       "2          CKC0-MOWMqoeWf6s-szl8g\n",
       "3          ACFtxLv8pGrrxMm6EgjreA\n",
       "4          s2I_Ni76bjJNK9yG60iD-Q\n",
       "                    ...          \n",
       "5261663    Ngk84Ax1tXgpoJFEGxot3w\n",
       "5261664    pOEL97ld-FJMKO8Ki8JmYg\n",
       "5261665    5ubokMNw8qfbX2WtxgJG1Q\n",
       "5261666    EO3i5kTUG7_S2OIQ23sdSA\n",
       "5261667    HloEEXm_QzEpycuwA_RtQA\n",
       "Name: business_id, Length: 5261668, dtype: object"
      ]
     },
     "execution_count": 12,
     "metadata": {},
     "output_type": "execute_result"
    }
   ],
   "source": [
    "yelp_raw_data['business_id']"
   ]
  },
  {
   "cell_type": "code",
   "execution_count": 13,
   "metadata": {},
   "outputs": [
    {
     "data": {
      "text/plain": [
       "pandas.core.series.Series"
      ]
     },
     "execution_count": 13,
     "metadata": {},
     "output_type": "execute_result"
    }
   ],
   "source": [
    "type(yelp_raw_data['business_id'])"
   ]
  },
  {
   "cell_type": "markdown",
   "metadata": {},
   "source": [
    "## Exploration tips for qualitative data"
   ]
  },
  {
   "cell_type": "markdown",
   "metadata": {},
   "source": [
    "Using these two Pandas objects, let's start performing some preliminary data\n",
    "exploration. For qualitative data, we will specifically look at the nominal and\n",
    "ordinal levels."
   ]
  },
  {
   "cell_type": "markdown",
   "metadata": {},
   "source": [
    "### Nominal level columns"
   ]
  },
  {
   "cell_type": "markdown",
   "metadata": {},
   "source": [
    "As we are at the nominal level, let's recall that at this level, data is qualitative and is\n",
    "described purely by name. In this dataset, this refers to the business_id, review_\n",
    "id, text, type, and user_id. Let's use Pandas in order to dive a bit deeper, as shown\n",
    "here:"
   ]
  },
  {
   "cell_type": "code",
   "execution_count": 14,
   "metadata": {},
   "outputs": [
    {
     "data": {
      "text/plain": [
       "count                    5261668\n",
       "unique                    174567\n",
       "top       4JNXUYY8wbaaDmk3BPzlWw\n",
       "freq                        7362\n",
       "Name: business_id, dtype: object"
      ]
     },
     "execution_count": 14,
     "metadata": {},
     "output_type": "execute_result"
    }
   ],
   "source": [
    "yelp_raw_data['business_id'].describe()"
   ]
  },
  {
   "cell_type": "markdown",
   "metadata": {},
   "source": [
    "The describe function will give us some quick stats about the column whose name\n",
    "we enter into the quotation marks. Note how Pandas automatically recognized that\n",
    "business_id was a qualitative column and gave us stats that make sense. When\n",
    "describe is called on a qualitative column, we will always get the following four\n",
    "items:\n",
    "##### • count: How many values are filled in\n",
    "##### • unique: How many unique values are filled in\n",
    "##### • top: The name of the most common item in the dataset\n",
    "##### • freq: How often the most common item appears in the dataset"
   ]
  },
  {
   "cell_type": "markdown",
   "metadata": {},
   "source": [
    "At the nominal level, we are usually looking for a few things, that would signal a\n",
    "transformation:\n",
    "\n",
    "• Do we have a reasonable number (usually under 20) of unique items?\n",
    "\n",
    "• Is this column free text?\n",
    "\n",
    "• Is this column completely unique across all rows?"
   ]
  },
  {
   "cell_type": "code",
   "execution_count": 15,
   "metadata": {},
   "outputs": [
    {
     "data": {
      "text/plain": [
       "count                    5261668\n",
       "unique                   5261668\n",
       "top       gqiuYtmJN9RzRbg-ZOKgUg\n",
       "freq                           1\n",
       "Name: review_id, dtype: object"
      ]
     },
     "execution_count": 15,
     "metadata": {},
     "output_type": "execute_result"
    }
   ],
   "source": [
    "yelp_raw_data['review_id'].describe()"
   ]
  },
  {
   "cell_type": "code",
   "execution_count": 16,
   "metadata": {},
   "outputs": [
    {
     "data": {
      "text/plain": [
       "count                                               5261668\n",
       "unique                                              5258354\n",
       "top       BE WARNED about the NEW REWARD PROGRAM being p...\n",
       "freq                                                     17\n",
       "Name: text, dtype: object"
      ]
     },
     "execution_count": 16,
     "metadata": {},
     "output_type": "execute_result"
    }
   ],
   "source": [
    "yelp_raw_data['text'].describe()"
   ]
  },
  {
   "cell_type": "markdown",
   "metadata": {},
   "source": [
    "### Filtering in Pandas"
   ]
  },
  {
   "cell_type": "code",
   "execution_count": 17,
   "metadata": {},
   "outputs": [],
   "source": [
    "duplicate_text = yelp_raw_data['text'].describe()['top']"
   ]
  },
  {
   "cell_type": "code",
   "execution_count": 18,
   "metadata": {},
   "outputs": [
    {
     "name": "stdout",
     "output_type": "stream",
     "text": [
      "BE WARNED about the NEW REWARD PROGRAM being promoted to unsuspecting customers!! This is all about SELLING YOUR INFORMATION!! READ the TERMS and CONDITIONS!! You're being WARNED about this REWARD PROGRAM that you MUST SIGN UP for if you want to earn any points for movies or $30 Popcorn Perks. You MUST give your Physical Address, Full Name, and Birthdate! This information WILL BE VERIFIED with a Financial App, similar to an eVerify!! I tried signing up with a disposable phone and a PO Box and it would not let me proceed and gave me an \"error message\" stating that my identity could not be VERIFIED!! Also, be sure to READ the TERMS & CONDITIONS where you'll find deep into the 5th page that by agreeing (you must agree or you will not be able to sign up) you've essentially signed your rights away and agree to hold Harkins harmless to any illegal acts made against you, slip and fall, forced and mandatory arbitration, AND HARKINS Will SELL your Personal Iinformation!!!!! AND as if this isn't bad enough, it gets worse!! You'll also hold HARKINS harmless from illegal acts or financial harm from these 3rd parties!!!!! Nice little gotcha!! Is this really worth some popcorn?? I'm getting the movie pass for $9.99 per month (every theater accepts EXCEPT Harkins) where I can see one movie (even new releases) every day of the month and will skip the popcorn and bring a bottled water! YOU'VE BEEN WARNED!! Shame on you Dan Harkins!!\n"
     ]
    }
   ],
   "source": [
    "print(duplicate_text)"
   ]
  },
  {
   "cell_type": "code",
   "execution_count": 20,
   "metadata": {},
   "outputs": [
    {
     "data": {
      "text/plain": [
       "0    False\n",
       "1    False\n",
       "2    False\n",
       "3    False\n",
       "4    False\n",
       "Name: text, dtype: bool"
      ]
     },
     "execution_count": 20,
     "metadata": {},
     "output_type": "execute_result"
    }
   ],
   "source": [
    "text_is_the_duplicate = yelp_raw_data['text'] == duplicate_text\n",
    "type(text_is_the_duplicate) # it is a Series of Trues and Falses\n",
    "text_is_the_duplicate.head() # shows a few Falses out of the Series"
   ]
  },
  {
   "cell_type": "code",
   "execution_count": 21,
   "metadata": {},
   "outputs": [
    {
     "data": {
      "text/plain": [
       "17"
      ]
     },
     "execution_count": 21,
     "metadata": {},
     "output_type": "execute_result"
    }
   ],
   "source": [
    "sum(text_is_the_duplicate)"
   ]
  },
  {
   "cell_type": "code",
   "execution_count": 23,
   "metadata": {},
   "outputs": [
    {
     "data": {
      "text/html": [
       "<div>\n",
       "<style scoped>\n",
       "    .dataframe tbody tr th:only-of-type {\n",
       "        vertical-align: middle;\n",
       "    }\n",
       "\n",
       "    .dataframe tbody tr th {\n",
       "        vertical-align: top;\n",
       "    }\n",
       "\n",
       "    .dataframe thead th {\n",
       "        text-align: right;\n",
       "    }\n",
       "</style>\n",
       "<table border=\"1\" class=\"dataframe\">\n",
       "  <thead>\n",
       "    <tr style=\"text-align: right;\">\n",
       "      <th></th>\n",
       "      <th>review_id</th>\n",
       "      <th>user_id</th>\n",
       "      <th>business_id</th>\n",
       "      <th>stars</th>\n",
       "      <th>date</th>\n",
       "      <th>text</th>\n",
       "      <th>useful</th>\n",
       "      <th>funny</th>\n",
       "      <th>cool</th>\n",
       "    </tr>\n",
       "  </thead>\n",
       "  <tbody>\n",
       "    <tr>\n",
       "      <th>666297</th>\n",
       "      <td>dSoJwsRuh8fWEYqHxMGwEg</td>\n",
       "      <td>JjQbdQ7Y91qsssm0vbVyVg</td>\n",
       "      <td>VfX7rhtX03yNg56ISz8gVQ</td>\n",
       "      <td>1</td>\n",
       "      <td>2017-11-26</td>\n",
       "      <td>BE WARNED about the NEW REWARD PROGRAM being p...</td>\n",
       "      <td>0</td>\n",
       "      <td>0</td>\n",
       "      <td>0</td>\n",
       "    </tr>\n",
       "    <tr>\n",
       "      <th>666298</th>\n",
       "      <td>ujQhfbcKLTxKf7hF4DhU2w</td>\n",
       "      <td>JjQbdQ7Y91qsssm0vbVyVg</td>\n",
       "      <td>sNBaDJM4Khm1BbrBRyrMVQ</td>\n",
       "      <td>1</td>\n",
       "      <td>2017-11-26</td>\n",
       "      <td>BE WARNED about the NEW REWARD PROGRAM being p...</td>\n",
       "      <td>0</td>\n",
       "      <td>0</td>\n",
       "      <td>0</td>\n",
       "    </tr>\n",
       "    <tr>\n",
       "      <th>666300</th>\n",
       "      <td>U4JyIKq6XE5Inf2euHGLMA</td>\n",
       "      <td>JjQbdQ7Y91qsssm0vbVyVg</td>\n",
       "      <td>Q3G58vv1ClvH4re9QBsVgQ</td>\n",
       "      <td>1</td>\n",
       "      <td>2017-11-26</td>\n",
       "      <td>BE WARNED about the NEW REWARD PROGRAM being p...</td>\n",
       "      <td>0</td>\n",
       "      <td>0</td>\n",
       "      <td>0</td>\n",
       "    </tr>\n",
       "    <tr>\n",
       "      <th>666301</th>\n",
       "      <td>i37-FpzoYyt117Xi7QZutA</td>\n",
       "      <td>JjQbdQ7Y91qsssm0vbVyVg</td>\n",
       "      <td>9pg2QPvwLomBLo9R-J2_Yw</td>\n",
       "      <td>1</td>\n",
       "      <td>2017-11-26</td>\n",
       "      <td>BE WARNED about the NEW REWARD PROGRAM being p...</td>\n",
       "      <td>0</td>\n",
       "      <td>0</td>\n",
       "      <td>0</td>\n",
       "    </tr>\n",
       "    <tr>\n",
       "      <th>666303</th>\n",
       "      <td>mHEK6Bfud-hbPirGeFftaw</td>\n",
       "      <td>JjQbdQ7Y91qsssm0vbVyVg</td>\n",
       "      <td>_98ytLdlPEDp0FTuO31R7Q</td>\n",
       "      <td>1</td>\n",
       "      <td>2017-11-26</td>\n",
       "      <td>BE WARNED about the NEW REWARD PROGRAM being p...</td>\n",
       "      <td>0</td>\n",
       "      <td>0</td>\n",
       "      <td>0</td>\n",
       "    </tr>\n",
       "  </tbody>\n",
       "</table>\n",
       "</div>"
      ],
      "text/plain": [
       "                     review_id                 user_id  \\\n",
       "666297  dSoJwsRuh8fWEYqHxMGwEg  JjQbdQ7Y91qsssm0vbVyVg   \n",
       "666298  ujQhfbcKLTxKf7hF4DhU2w  JjQbdQ7Y91qsssm0vbVyVg   \n",
       "666300  U4JyIKq6XE5Inf2euHGLMA  JjQbdQ7Y91qsssm0vbVyVg   \n",
       "666301  i37-FpzoYyt117Xi7QZutA  JjQbdQ7Y91qsssm0vbVyVg   \n",
       "666303  mHEK6Bfud-hbPirGeFftaw  JjQbdQ7Y91qsssm0vbVyVg   \n",
       "\n",
       "                   business_id  stars        date  \\\n",
       "666297  VfX7rhtX03yNg56ISz8gVQ      1  2017-11-26   \n",
       "666298  sNBaDJM4Khm1BbrBRyrMVQ      1  2017-11-26   \n",
       "666300  Q3G58vv1ClvH4re9QBsVgQ      1  2017-11-26   \n",
       "666301  9pg2QPvwLomBLo9R-J2_Yw      1  2017-11-26   \n",
       "666303  _98ytLdlPEDp0FTuO31R7Q      1  2017-11-26   \n",
       "\n",
       "                                                     text  useful  funny  cool  \n",
       "666297  BE WARNED about the NEW REWARD PROGRAM being p...       0      0     0  \n",
       "666298  BE WARNED about the NEW REWARD PROGRAM being p...       0      0     0  \n",
       "666300  BE WARNED about the NEW REWARD PROGRAM being p...       0      0     0  \n",
       "666301  BE WARNED about the NEW REWARD PROGRAM being p...       0      0     0  \n",
       "666303  BE WARNED about the NEW REWARD PROGRAM being p...       0      0     0  "
      ]
     },
     "execution_count": 23,
     "metadata": {},
     "output_type": "execute_result"
    }
   ],
   "source": [
    "filtered_dataframe = yelp_raw_data[text_is_the_duplicate]\n",
    "# the filtered Dataframe\n",
    "filtered_dataframe.head()"
   ]
  },
  {
   "cell_type": "markdown",
   "metadata": {},
   "source": [
    "### Ordinal level columns"
   ]
  },
  {
   "cell_type": "markdown",
   "metadata": {},
   "source": [
    "As far as ordinal columns go, we are looking at date and stars. For each of these\n",
    "columns, let's look at what the describe method brings back:"
   ]
  },
  {
   "cell_type": "code",
   "execution_count": 24,
   "metadata": {},
   "outputs": [
    {
     "data": {
      "text/plain": [
       "count    5.261668e+06\n",
       "mean     3.727739e+00\n",
       "std      1.433593e+00\n",
       "min      1.000000e+00\n",
       "25%      3.000000e+00\n",
       "50%      4.000000e+00\n",
       "75%      5.000000e+00\n",
       "max      5.000000e+00\n",
       "Name: stars, dtype: float64"
      ]
     },
     "execution_count": 24,
     "metadata": {},
     "output_type": "execute_result"
    }
   ],
   "source": [
    "yelp_raw_data['stars'].describe()"
   ]
  },
  {
   "cell_type": "markdown",
   "metadata": {},
   "source": [
    "Woah! Even though this column is ordinal, the describe method returned stats that\n",
    "we might expect for a quantitative column. This is because the software saw a bunch\n",
    "of numbers and just assumed that we wanted stats like the mean or the min and\n",
    "max. This is no problem. Let's use a method called value_counts to see the count\n",
    "distribution, as shown here:"
   ]
  },
  {
   "cell_type": "code",
   "execution_count": 25,
   "metadata": {},
   "outputs": [
    {
     "data": {
      "text/plain": [
       "5    2253347\n",
       "4    1223316\n",
       "1     731363\n",
       "3     615481\n",
       "2     438161\n",
       "Name: stars, dtype: int64"
      ]
     },
     "execution_count": 25,
     "metadata": {},
     "output_type": "execute_result"
    }
   ],
   "source": [
    "yelp_raw_data['stars'].value_counts()"
   ]
  },
  {
   "cell_type": "markdown",
   "metadata": {},
   "source": [
    "The value_counts method will return the distribution of values for any column.\n",
    "In this case, we see that the star rating 4 is the most common, with 3526 values,\n",
    "followed closely by the rating 5. We can also plot this data to get a nice visual. First,\n",
    "let's sort by star rating, and then use the prebuilt plot method to make a bar chart."
   ]
  },
  {
   "cell_type": "code",
   "execution_count": 29,
   "metadata": {},
   "outputs": [
    {
     "data": {
      "text/plain": [
       "<AxesSubplot:>"
      ]
     },
     "execution_count": 29,
     "metadata": {},
     "output_type": "execute_result"
    },
    {
     "data": {
      "image/png": "[encoded data removed]",
      "text/plain": [
       "<Figure size 432x288 with 1 Axes>"
      ]
     },
     "metadata": {
      "needs_background": "light"
     },
     "output_type": "display_data"
    }
   ],
   "source": [
    "dates = yelp_raw_data['stars'].value_counts()\n",
    "dates = dates.sort_index()\n",
    "dates.plot(kind='bar')"
   ]
  }
 ],
 "metadata": {
  "kernelspec": {
   "display_name": "Python 3",
   "language": "python",
   "name": "python3"
  },
  "language_info": {
   "codemirror_mode": {
    "name": "ipython",
    "version": 3
   },
   "file_extension": ".py",
   "mimetype": "text/x-python",
   "name": "python",
   "nbconvert_exporter": "python",
   "pygments_lexer": "ipython3",
   "version": "3.8.5"
  }
 },
 "nbformat": 4,
 "nbformat_minor": 4
}
